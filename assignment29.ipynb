{
 "cells": [
  {
   "cell_type": "markdown",
   "id": "3f5136eb",
   "metadata": {},
   "source": [
    "1.Who developed python programing language?"
   ]
  },
  {
   "cell_type": "markdown",
   "id": "1ca7d267",
   "metadata": {},
   "source": [
    "The Python programming language was created by Guido van Rossum. "
   ]
  },
  {
   "cell_type": "code",
   "execution_count": null,
   "id": "61739ac8",
   "metadata": {},
   "outputs": [],
   "source": []
  },
  {
   "cell_type": "markdown",
   "id": "8a3a1a25",
   "metadata": {},
   "source": [
    "2.What kind of programming does python support?"
   ]
  },
  {
   "cell_type": "markdown",
   "id": "d71f99a0",
   "metadata": {},
   "source": [
    "Procedural Programming,\n",
    "\n",
    "Object-Oriented Programming (OOP),\n",
    "\n",
    "Functional Programming,\n",
    "\n",
    "Dynamic Typing,\n",
    "\n",
    "Scripting,\n",
    "\n",
    "Web Development,\n",
    "\n",
    "Data Science and Analysis,\n",
    "\n",
    "Machine Learning and AI,\n",
    "\n",
    "Automation and Scripting,\n",
    "\n",
    "Game Development."
   ]
  },
  {
   "cell_type": "code",
   "execution_count": null,
   "id": "4d8c1632",
   "metadata": {},
   "outputs": [],
   "source": []
  },
  {
   "cell_type": "markdown",
   "id": "f78b7e31",
   "metadata": {},
   "source": [
    "3.Is python ase sensitive when dealing with identifiers?"
   ]
  },
  {
   "cell_type": "markdown",
   "id": "79c25fa0",
   "metadata": {},
   "source": [
    "Yes, Python is case-sensitive when dealing with identifiers. This means that identifiers like variable names, function names, class names, and other symbols must maintain the same capitalization throughout their usage. "
   ]
  },
  {
   "cell_type": "code",
   "execution_count": null,
   "id": "81049e5b",
   "metadata": {},
   "outputs": [],
   "source": []
  },
  {
   "cell_type": "markdown",
   "id": "09bf220c",
   "metadata": {},
   "source": [
    "4.What is the correct extension of the python file?"
   ]
  },
  {
   "cell_type": "markdown",
   "id": "08e9e85e",
   "metadata": {},
   "source": [
    "'.py'"
   ]
  },
  {
   "cell_type": "code",
   "execution_count": null,
   "id": "21e03a28",
   "metadata": {},
   "outputs": [],
   "source": []
  },
  {
   "cell_type": "markdown",
   "id": "adef10cb",
   "metadata": {},
   "source": [
    "5.Is Python code complied or interpreted?"
   ]
  },
  {
   "cell_type": "markdown",
   "id": "552e1966",
   "metadata": {},
   "source": [
    "Python is an interpreted programming language. This means that Python code is executed line by line by an interpreter at runtime, rather than being compiled into machine code before execution."
   ]
  },
  {
   "cell_type": "code",
   "execution_count": null,
   "id": "61e095c0",
   "metadata": {},
   "outputs": [],
   "source": []
  },
  {
   "cell_type": "markdown",
   "id": "ea4d8f9b",
   "metadata": {},
   "source": [
    "6.Name a few blocks of code used to define in python language?"
   ]
  },
  {
   "cell_type": "markdown",
   "id": "2b45b096",
   "metadata": {},
   "source": [
    "Function Definition\n",
    "\n",
    "Conditional Statements (if, elif, else)\n",
    "\n",
    "Loops (for and while)\n",
    "\n",
    "Class Definition\n",
    "\n",
    "Exception Handling (try, except, finally)"
   ]
  },
  {
   "cell_type": "code",
   "execution_count": null,
   "id": "4c07ac7f",
   "metadata": {},
   "outputs": [],
   "source": []
  },
  {
   "cell_type": "markdown",
   "id": "2b0d4d3e",
   "metadata": {},
   "source": [
    "7.State a character used to gie single-line comments in python?"
   ]
  },
  {
   "cell_type": "markdown",
   "id": "b7d8e55a",
   "metadata": {},
   "source": [
    "In Python, the # character is used to create single-line comments."
   ]
  },
  {
   "cell_type": "code",
   "execution_count": null,
   "id": "2f384120",
   "metadata": {},
   "outputs": [],
   "source": []
  },
  {
   "cell_type": "markdown",
   "id": "014fe8a2",
   "metadata": {},
   "source": [
    "8.Mention functions which can help us to find the version of python that we are currently working on?"
   ]
  },
  {
   "cell_type": "markdown",
   "id": "97493d0a",
   "metadata": {},
   "source": [
    "\n",
    "To find the version of Python that we are  currently working with, can be known using\n",
    "\n",
    "1.sys.version or sys.version_info: You can use the sys module to access version information. The sys.version attribute returns a string containing the version number, while sys.version_info returns a tuple with detailed version information.\n",
    "\n",
    "2.platform.python_version(): The platform module provides a python_version() function that returns the Python version as a string."
   ]
  },
  {
   "cell_type": "code",
   "execution_count": null,
   "id": "acdebcb8",
   "metadata": {},
   "outputs": [],
   "source": []
  },
  {
   "cell_type": "markdown",
   "id": "9193a610",
   "metadata": {},
   "source": [
    "9.Python supports the creation of anonymous functions at runtime, using a construct called -----------"
   ]
  },
  {
   "cell_type": "markdown",
   "id": "7d707777",
   "metadata": {},
   "source": [
    "lambda function"
   ]
  },
  {
   "cell_type": "code",
   "execution_count": null,
   "id": "73a5d58d",
   "metadata": {},
   "outputs": [],
   "source": []
  },
  {
   "cell_type": "markdown",
   "id": "db80deeb",
   "metadata": {},
   "source": [
    "10.What does pip stand for in python?"
   ]
  },
  {
   "cell_type": "markdown",
   "id": "aa20a223",
   "metadata": {},
   "source": [
    "\"Pip\" stands for \"Pip Installs Packages.\" "
   ]
  },
  {
   "cell_type": "code",
   "execution_count": null,
   "id": "5dc91707",
   "metadata": {},
   "outputs": [],
   "source": []
  },
  {
   "cell_type": "markdown",
   "id": "b3b50d74",
   "metadata": {},
   "source": [
    "11.Mention a few built in functions in python?"
   ]
  },
  {
   "cell_type": "markdown",
   "id": "93b8aa13",
   "metadata": {},
   "source": [
    "print()\n",
    "\n",
    "len()\n",
    "\n",
    "input()\n",
    "\n",
    "type()\n",
    "\n",
    "int()\n",
    "\n",
    "float()\n",
    "\n",
    "str()\n",
    "\n",
    "list()\n",
    "\n",
    "tuple()\n",
    "\n",
    "set()\n",
    "\n",
    "dict()"
   ]
  },
  {
   "cell_type": "code",
   "execution_count": null,
   "id": "d2ce1dfc",
   "metadata": {},
   "outputs": [],
   "source": []
  },
  {
   "cell_type": "markdown",
   "id": "0776aa59",
   "metadata": {},
   "source": [
    "12.What is the maximum possible length of an identifier in python?"
   ]
  },
  {
   "cell_type": "markdown",
   "id": "b9cd434d",
   "metadata": {},
   "source": [
    "In Python, the maximum length of an identifier (variable name, function name, etc.) is not explicitly defined by a fixed number of characters. However, practical limits are determined by various factors including the underlying operating system, the memory available, and the specific Python implementation being used."
   ]
  },
  {
   "cell_type": "code",
   "execution_count": null,
   "id": "a57601ff",
   "metadata": {},
   "outputs": [],
   "source": []
  },
  {
   "cell_type": "markdown",
   "id": "b5256730",
   "metadata": {},
   "source": [
    "13.What are the benefits of using a python?"
   ]
  },
  {
   "cell_type": "markdown",
   "id": "6d17c625",
   "metadata": {},
   "source": [
    "Readability: Clear and concise syntax.\n",
    "    \n",
    "Standard Library: Comprehensive set of modules.\n",
    "\n",
    "Versatility: Supports various applications.\n",
    "\n",
    "Community and Resources: Active community and extensive resources.\n",
    "\n",
    "Interpreted Language: Allows for rapid development and testing.\n",
    "\n",
    "Cross-Platform: Runs on multiple operating systems.\n",
    "\n",
    "Integration: Easily integrates with other languages.\n",
    "\n",
    "Scalability: Used in small scripts to large applications.\n",
    "\n",
    "Data Science and AI: Strong ecosystem for data analysis and machine learning.\n",
    "\n",
    "Open Source: Freely available and adaptable."
   ]
  },
  {
   "cell_type": "code",
   "execution_count": null,
   "id": "fad9dbe3",
   "metadata": {},
   "outputs": [],
   "source": []
  },
  {
   "cell_type": "markdown",
   "id": "4d5f465f",
   "metadata": {},
   "source": [
    "14.How is memory managed in python?"
   ]
  },
  {
   "cell_type": "markdown",
   "id": "2f4ddf6a",
   "metadata": {},
   "source": [
    "Reference Counting: Tracking the number of references to objects. When references drop to zero, memory is freed.\n",
    "\n",
    "Garbage Collection: Identifying and collecting cyclic references or unreachable objects periodically.\n",
    "\n",
    "Memory Allocation: Dynamically allocating memory from the system's heap for new objects.\n",
    "\n",
    "Automatic Management: Python handles memory tasks automatically, relieving developers from manual memory allocation and deallocation."
   ]
  },
  {
   "cell_type": "code",
   "execution_count": null,
   "id": "50593add",
   "metadata": {},
   "outputs": [],
   "source": []
  },
  {
   "cell_type": "markdown",
   "id": "80ecb307",
   "metadata": {},
   "source": [
    "15.How to install Python on windows and set path variables?"
   ]
  },
  {
   "cell_type": "markdown",
   "id": "4c13a8c0",
   "metadata": {},
   "source": [
    "1.Download Python\n",
    "\n",
    "2.Run the Installer\n",
    "\n",
    "3.Customize Installation (Optional)\n",
    "\n",
    "4.Installation Location (Optional)\n",
    "\n",
    "5.Completing the Installation\n",
    "\n",
    "6.Verify Installation\n",
    "\n",
    "7.Setting up Path Manually (If Not Added Automatically)\n",
    "\n",
    "8.Verify PATH Configuration"
   ]
  },
  {
   "cell_type": "code",
   "execution_count": null,
   "id": "319f5b85",
   "metadata": {},
   "outputs": [],
   "source": []
  },
  {
   "cell_type": "markdown",
   "id": "781f0c40",
   "metadata": {},
   "source": [
    "16.Is indentation required in python?"
   ]
  },
  {
   "cell_type": "markdown",
   "id": "9560d49f",
   "metadata": {},
   "source": [
    "Yes"
   ]
  },
  {
   "cell_type": "code",
   "execution_count": null,
   "id": "a2468829",
   "metadata": {},
   "outputs": [],
   "source": []
  }
 ],
 "metadata": {
  "kernelspec": {
   "display_name": "Python 3 (ipykernel)",
   "language": "python",
   "name": "python3"
  },
  "language_info": {
   "codemirror_mode": {
    "name": "ipython",
    "version": 3
   },
   "file_extension": ".py",
   "mimetype": "text/x-python",
   "name": "python",
   "nbconvert_exporter": "python",
   "pygments_lexer": "ipython3",
   "version": "3.11.3"
  }
 },
 "nbformat": 4,
 "nbformat_minor": 5
}
